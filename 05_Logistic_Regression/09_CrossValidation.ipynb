{
 "cells": [
  {
   "cell_type": "markdown",
   "metadata": {},
   "source": [
    "# Cross Validation"
   ]
  },
  {
   "cell_type": "code",
   "execution_count": 4,
   "metadata": {},
   "outputs": [],
   "source": [
    "#######################################\n",
    "##1. Importing Libreries         \n",
    "#######################################\n",
    "import pandas as pd\n",
    "import numpy as np\n",
    "import matplotlib.pyplot as plt\n",
    "%matplotlib inline\n",
    "\n",
    "#######################################\n",
    "##2. Setting Options         \n",
    "#######################################\n",
    "pd.set_option('display.max_columns', 500)\n",
    "\n",
    "#######################################\n",
    "##3. Reading Dataset         \n",
    "#######################################\n",
    "data = pd.read_csv('../datasets/bank/bank.csv',sep=';')\n",
    "\n",
    "#######################################\n",
    "##3. Cleaning Features         \n",
    "#######################################\n",
    "# Grouping\n",
    "data['education'] = np.where(data['education'] == 'basic.4y', 'Basic', data['education'])\n",
    "data['education'] = np.where(data['education'] == 'basic.6y', 'Basic', data['education'])\n",
    "data['education'] = np.where(data['education'] == 'basic.9y', 'Basic', data['education'])\n",
    "# Renaming\n",
    "data['education'] = np.where(data['education'] == 'high.school', 'High School', data['education'])\n",
    "data['education'] = np.where(data['education'] == 'professional.course', 'Professional Course', data['education'])\n",
    "data['education'] = np.where(data['education'] == 'professional.course', 'Professional Course', data['education'])\n",
    "data['education'] = np.where(data['education'] == 'university.degree', 'University Degree', data['education'])\n",
    "data['education'] = np.where(data['education'] == 'illiterate', 'Illitirate', data['education'])\n",
    "data['education'] = np.where(data['education'] == 'unknown', 'Unknown', data['education'])\n",
    "# Response to Dummie feature\n",
    "data.loc[data['y']=='yes','y'] = 1\n",
    "data.loc[data['y']=='no','y'] = 0\n",
    "# From categorical features to dummie features\n",
    "categories = ['job','marital','education','default','housing','loan','contact','month','day_of_week','poutcome']\n",
    "for category in categories:\n",
    "    cat_list = 'cat'+'_'+category\n",
    "    cat_dummies = pd.get_dummies(data[category],prefix=cat_list)\n",
    "    data = data.join(cat_dummies)\n",
    "# Dropping Features\n",
    "data.drop(columns=categories, inplace=True)\n",
    "# Splitting X and y\n",
    "datacols = data.columns.values.tolist()\n",
    "subset_y = ['y']\n",
    "subset_X = [v for v in datacols if v != 'y']\n",
    "\n",
    "#######################################\n",
    "##4. Feature Selection      \n",
    "#######################################\n",
    "# Importing Libraries\n",
    "from sklearn.feature_selection import RFE\n",
    "from sklearn.svm import SVR\n",
    "from sklearn.linear_model import LogisticRegression\n",
    "# Number of features that i have to keep\n",
    "n = 12\n",
    "# Instantiating\n",
    "logreg = LogisticRegression()\n",
    "rfe = RFE(logreg, n)\n",
    "# Training\n",
    "rfe.fit(data[subset_X],data[subset_y].values.ravel())\n",
    "# Chosing the new features\n",
    "final_subset_X = []\n",
    "for i in range(len(subset_X)):\n",
    "    if rfe.support_[i] == True:\n",
    "        final_subset_X.append(subset_X[i])\n",
    "# X and y to develope the model\n",
    "X = data[final_subset_X]\n",
    "y = data['y']"
   ]
  },
  {
   "cell_type": "markdown",
   "metadata": {},
   "source": [
    "### Splitting our Dataset "
   ]
  },
  {
   "cell_type": "code",
   "execution_count": 5,
   "metadata": {},
   "outputs": [],
   "source": [
    "from sklearn.model_selection import train_test_split\n",
    "X_train, X_test, y_train, y_test = train_test_split(X,y,test_size=0.3, random_state = 0) "
   ]
  },
  {
   "cell_type": "markdown",
   "metadata": {},
   "source": [
    "### Sklearn"
   ]
  },
  {
   "cell_type": "code",
   "execution_count": 6,
   "metadata": {},
   "outputs": [],
   "source": [
    "from sklearn.linear_model import LogisticRegression\n",
    "logreg = LogisticRegression()"
   ]
  },
  {
   "cell_type": "markdown",
   "metadata": {},
   "source": [
    "### Cross Validation\n",
    "![alt](https://upload.wikimedia.org/wikipedia/commons/1/18/Esquema_castell%C3%A0.jpg)"
   ]
  },
  {
   "cell_type": "code",
   "execution_count": 8,
   "metadata": {},
   "outputs": [],
   "source": [
    "from sklearn.model_selection import cross_val_score"
   ]
  },
  {
   "cell_type": "code",
   "execution_count": 17,
   "metadata": {},
   "outputs": [
    {
     "data": {
      "text/plain": [
       "array([0.92493947, 0.90048544, 0.90291262, 0.89563107, 0.90291262,\n",
       "       0.90533981, 0.8907767 , 0.89563107, 0.90024331, 0.90024331])"
      ]
     },
     "execution_count": 17,
     "metadata": {},
     "output_type": "execute_result"
    }
   ],
   "source": [
    "scores = cross_val_score(logreg, X, y,scoring='accuracy', cv=10)\n",
    "scores"
   ]
  },
  {
   "cell_type": "code",
   "execution_count": 15,
   "metadata": {},
   "outputs": [
    {
     "data": {
      "text/plain": [
       "0.9019115405705567"
      ]
     },
     "execution_count": 15,
     "metadata": {},
     "output_type": "execute_result"
    }
   ],
   "source": [
    "scores.mean()"
   ]
  },
  {
   "cell_type": "code",
   "execution_count": 16,
   "metadata": {},
   "outputs": [
    {
     "data": {
      "text/plain": [
       "0.8905074047098811"
      ]
     },
     "execution_count": 16,
     "metadata": {},
     "output_type": "execute_result"
    }
   ],
   "source": [
    "# Null Accuracy\n",
    "max(y.mean(), 1 - y.mean()) "
   ]
  },
  {
   "cell_type": "code",
   "execution_count": null,
   "metadata": {},
   "outputs": [],
   "source": []
  }
 ],
 "metadata": {
  "kernelspec": {
   "display_name": "Python 3",
   "language": "python",
   "name": "python3"
  },
  "language_info": {
   "codemirror_mode": {
    "name": "ipython",
    "version": 3
   },
   "file_extension": ".py",
   "mimetype": "text/x-python",
   "name": "python",
   "nbconvert_exporter": "python",
   "pygments_lexer": "ipython3",
   "version": "3.6.8"
  }
 },
 "nbformat": 4,
 "nbformat_minor": 2
}
