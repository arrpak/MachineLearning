{
 "cells": [
  {
   "cell_type": "markdown",
   "metadata": {},
   "source": [
    "# ROC and Confusion Matrix"
   ]
  },
  {
   "cell_type": "code",
   "execution_count": 34,
   "metadata": {},
   "outputs": [],
   "source": [
    "#######################################\n",
    "##1. Importing Libreries         \n",
    "#######################################\n",
    "import pandas as pd\n",
    "import numpy as np\n",
    "import matplotlib.pyplot as plt\n",
    "%matplotlib inline\n",
    "\n",
    "#######################################\n",
    "##2. Setting Options         \n",
    "#######################################\n",
    "pd.set_option('display.max_columns', 500)\n",
    "\n",
    "#######################################\n",
    "##3. Reading Dataset         \n",
    "#######################################\n",
    "data = pd.read_csv('../datasets/bank/bank.csv',sep=';')\n",
    "\n",
    "#######################################\n",
    "##3. Cleaning Features         \n",
    "#######################################\n",
    "# Grouping\n",
    "data['education'] = np.where(data['education'] == 'basic.4y', 'Basic', data['education'])\n",
    "data['education'] = np.where(data['education'] == 'basic.6y', 'Basic', data['education'])\n",
    "data['education'] = np.where(data['education'] == 'basic.9y', 'Basic', data['education'])\n",
    "# Renaming\n",
    "data['education'] = np.where(data['education'] == 'high.school', 'High School', data['education'])\n",
    "data['education'] = np.where(data['education'] == 'professional.course', 'Professional Course', data['education'])\n",
    "data['education'] = np.where(data['education'] == 'professional.course', 'Professional Course', data['education'])\n",
    "data['education'] = np.where(data['education'] == 'university.degree', 'University Degree', data['education'])\n",
    "data['education'] = np.where(data['education'] == 'illiterate', 'Illitirate', data['education'])\n",
    "data['education'] = np.where(data['education'] == 'unknown', 'Unknown', data['education'])\n",
    "# Response to Dummie feature\n",
    "data.loc[data['y']=='yes','y'] = 1\n",
    "data.loc[data['y']=='no','y'] = 0\n",
    "# From categorical features to dummie features\n",
    "categories = ['job','marital','education','default','housing','loan','contact','month','day_of_week','poutcome']\n",
    "for category in categories:\n",
    "    cat_list = 'cat'+'_'+category\n",
    "    cat_dummies = pd.get_dummies(data[category],prefix=cat_list)\n",
    "    data = data.join(cat_dummies)\n",
    "# Dropping Features\n",
    "data.drop(columns=categories, inplace=True)\n",
    "# Splitting X and y\n",
    "datacols = data.columns.values.tolist()\n",
    "subset_y = ['y']\n",
    "subset_X = [v for v in datacols if v != 'y']\n",
    "\n",
    "#######################################\n",
    "##4. Feature Selection      \n",
    "#######################################\n",
    "# Importing Libraries\n",
    "from sklearn.feature_selection import RFE\n",
    "from sklearn.svm import SVR\n",
    "from sklearn.linear_model import LogisticRegression\n",
    "# Number of features that i have to keep\n",
    "n = 12\n",
    "# Instantiating\n",
    "logreg = LogisticRegression()\n",
    "rfe = RFE(logreg, n)\n",
    "# Training\n",
    "rfe.fit(data[subset_X],data[subset_y].values.ravel())\n",
    "# Chosing the new features\n",
    "final_subset_X = []\n",
    "for i in range(len(subset_X)):\n",
    "    if rfe.support_[i] == True:\n",
    "        final_subset_X.append(subset_X[i])\n",
    "# X and y to develope the model\n",
    "X = data[final_subset_X]\n",
    "y = data['y']"
   ]
  },
  {
   "cell_type": "markdown",
   "metadata": {},
   "source": [
    "### Cross Validation"
   ]
  },
  {
   "cell_type": "markdown",
   "metadata": {},
   "source": [
    "### Confusion Matrix\n",
    "\n",
    "Confusion Matrix\n",
    "\n",
    "-\tTrue Positives (TP): we correctly predicted Class 1\n",
    "-\tTrue Negatives (TN): we correctly predicted Class 0\n",
    "-\tFalse Positives (FP): we incorrectly predicted Class 1 (a \"Type I error\")\n",
    "-\tFalse Negatives (FN): we incorrectly predicted Class 0 (a \"Type II error\")\n",
    "\n",
    "\n",
    "1. Classification Accuracy\n",
    "\n",
    "(TP + TN) / (TP + TN + FP + FN)\n",
    "\n",
    "2. Classification Error\n",
    "\n",
    "(FP + FN) / (TP + TN + FP + FN)\n",
    "\n",
    "3. Sensitivity: True Positive Rate or Recall\n",
    "\n",
    "TP / (TP + FN)\n",
    "\n",
    "4. Specificity: True Negative Rate\n",
    "\n",
    "TN / (TN + FP)\n",
    "\n",
    "5. False Positive Rate:\n",
    "\n",
    "FP / (TN + FP)\n",
    "\n",
    "6. Precision: Precision Predicting Positive Instances\n",
    "\n",
    "TP / (TP + FP)\n"
   ]
  },
  {
   "cell_type": "code",
   "execution_count": 35,
   "metadata": {},
   "outputs": [],
   "source": [
    "#######################################\n",
    "##1. Splitting Dataset      \n",
    "#######################################\n",
    "from sklearn.model_selection import train_test_split\n",
    "X_train, X_test, y_train, y_test = train_test_split(X,y,test_size=0.3, random_state = 0) \n",
    "\n",
    "#######################################\n",
    "##2. Instantiate the model      \n",
    "#######################################\n",
    "from sklearn.linear_model import LogisticRegression\n",
    "logreg = LogisticRegression()\n",
    "logreg.fit(X_train,y_train)\n",
    "\n",
    "#######################################\n",
    "##3. Probabilities and Predictions   \n",
    "#######################################\n",
    "y_pred=logreg.predict(X_test)\n",
    "y_pred_prob = logreg.predict_proba(X_test) \n",
    "\n",
    "#######################################\n",
    "##4. Tunning our threshold   \n",
    "#######################################\n",
    "prob = y_pred_prob[:,1]\n",
    "prob_df = pd.DataFrame(prob)\n",
    "threshold = 0.1\n",
    "prob_df['Prediction_threshold'] = np.where(prob_df[0]>threshold,1,0)\n",
    "prob_df['Prediction'] = list(y_pred)\n",
    "prob_df['Actual'] = list(y_test)"
   ]
  },
  {
   "cell_type": "code",
   "execution_count": 36,
   "metadata": {},
   "outputs": [
    {
     "data": {
      "text/html": [
       "<div>\n",
       "<style scoped>\n",
       "    .dataframe tbody tr th:only-of-type {\n",
       "        vertical-align: middle;\n",
       "    }\n",
       "\n",
       "    .dataframe tbody tr th {\n",
       "        vertical-align: top;\n",
       "    }\n",
       "\n",
       "    .dataframe thead th {\n",
       "        text-align: right;\n",
       "    }\n",
       "</style>\n",
       "<table border=\"1\" class=\"dataframe\">\n",
       "  <thead>\n",
       "    <tr style=\"text-align: right;\">\n",
       "      <th></th>\n",
       "      <th>0</th>\n",
       "      <th>Prediction_threshold</th>\n",
       "      <th>Prediction</th>\n",
       "      <th>Actual</th>\n",
       "    </tr>\n",
       "  </thead>\n",
       "  <tbody>\n",
       "    <tr>\n",
       "      <th>0</th>\n",
       "      <td>0.066478</td>\n",
       "      <td>0</td>\n",
       "      <td>0</td>\n",
       "      <td>0</td>\n",
       "    </tr>\n",
       "    <tr>\n",
       "      <th>1</th>\n",
       "      <td>0.117406</td>\n",
       "      <td>1</td>\n",
       "      <td>0</td>\n",
       "      <td>0</td>\n",
       "    </tr>\n",
       "    <tr>\n",
       "      <th>2</th>\n",
       "      <td>0.069593</td>\n",
       "      <td>0</td>\n",
       "      <td>0</td>\n",
       "      <td>0</td>\n",
       "    </tr>\n",
       "    <tr>\n",
       "      <th>3</th>\n",
       "      <td>0.062666</td>\n",
       "      <td>0</td>\n",
       "      <td>0</td>\n",
       "      <td>0</td>\n",
       "    </tr>\n",
       "    <tr>\n",
       "      <th>4</th>\n",
       "      <td>0.065086</td>\n",
       "      <td>0</td>\n",
       "      <td>0</td>\n",
       "      <td>0</td>\n",
       "    </tr>\n",
       "  </tbody>\n",
       "</table>\n",
       "</div>"
      ],
      "text/plain": [
       "          0  Prediction_threshold  Prediction  Actual\n",
       "0  0.066478                     0           0       0\n",
       "1  0.117406                     1           0       0\n",
       "2  0.069593                     0           0       0\n",
       "3  0.062666                     0           0       0\n",
       "4  0.065086                     0           0       0"
      ]
     },
     "execution_count": 36,
     "metadata": {},
     "output_type": "execute_result"
    }
   ],
   "source": [
    "prob_df.head()"
   ]
  },
  {
   "cell_type": "code",
   "execution_count": 37,
   "metadata": {},
   "outputs": [
    {
     "data": {
      "text/html": [
       "<div>\n",
       "<style scoped>\n",
       "    .dataframe tbody tr th:only-of-type {\n",
       "        vertical-align: middle;\n",
       "    }\n",
       "\n",
       "    .dataframe tbody tr th {\n",
       "        vertical-align: top;\n",
       "    }\n",
       "\n",
       "    .dataframe thead th {\n",
       "        text-align: right;\n",
       "    }\n",
       "</style>\n",
       "<table border=\"1\" class=\"dataframe\">\n",
       "  <thead>\n",
       "    <tr style=\"text-align: right;\">\n",
       "      <th>Actual</th>\n",
       "      <th>0</th>\n",
       "      <th>1</th>\n",
       "    </tr>\n",
       "    <tr>\n",
       "      <th>Prediction_threshold</th>\n",
       "      <th></th>\n",
       "      <th></th>\n",
       "    </tr>\n",
       "  </thead>\n",
       "  <tbody>\n",
       "    <tr>\n",
       "      <th>0</th>\n",
       "      <td>847</td>\n",
       "      <td>46</td>\n",
       "    </tr>\n",
       "    <tr>\n",
       "      <th>1</th>\n",
       "      <td>267</td>\n",
       "      <td>76</td>\n",
       "    </tr>\n",
       "  </tbody>\n",
       "</table>\n",
       "</div>"
      ],
      "text/plain": [
       "Actual                  0   1\n",
       "Prediction_threshold         \n",
       "0                     847  46\n",
       "1                     267  76"
      ]
     },
     "execution_count": 37,
     "metadata": {},
     "output_type": "execute_result"
    }
   ],
   "source": [
    "confmatrix_threshold = pd.crosstab(prob_df['Prediction_threshold'],prob_df['Actual'])\n",
    "confmatrix_threshold"
   ]
  },
  {
   "cell_type": "code",
   "execution_count": 38,
   "metadata": {},
   "outputs": [
    {
     "data": {
      "text/html": [
       "<div>\n",
       "<style scoped>\n",
       "    .dataframe tbody tr th:only-of-type {\n",
       "        vertical-align: middle;\n",
       "    }\n",
       "\n",
       "    .dataframe tbody tr th {\n",
       "        vertical-align: top;\n",
       "    }\n",
       "\n",
       "    .dataframe thead th {\n",
       "        text-align: right;\n",
       "    }\n",
       "</style>\n",
       "<table border=\"1\" class=\"dataframe\">\n",
       "  <thead>\n",
       "    <tr style=\"text-align: right;\">\n",
       "      <th>Actual</th>\n",
       "      <th>0</th>\n",
       "      <th>1</th>\n",
       "    </tr>\n",
       "    <tr>\n",
       "      <th>Prediction</th>\n",
       "      <th></th>\n",
       "      <th></th>\n",
       "    </tr>\n",
       "  </thead>\n",
       "  <tbody>\n",
       "    <tr>\n",
       "      <th>0</th>\n",
       "      <td>1097</td>\n",
       "      <td>104</td>\n",
       "    </tr>\n",
       "    <tr>\n",
       "      <th>1</th>\n",
       "      <td>17</td>\n",
       "      <td>18</td>\n",
       "    </tr>\n",
       "  </tbody>\n",
       "</table>\n",
       "</div>"
      ],
      "text/plain": [
       "Actual         0    1\n",
       "Prediction           \n",
       "0           1097  104\n",
       "1             17   18"
      ]
     },
     "execution_count": 38,
     "metadata": {},
     "output_type": "execute_result"
    }
   ],
   "source": [
    "confmatrix = pd.crosstab(prob_df['Prediction'],prob_df['Actual'])\n",
    "confmatrix"
   ]
  },
  {
   "cell_type": "code",
   "execution_count": 39,
   "metadata": {},
   "outputs": [],
   "source": [
    "TN=confmatrix_threshold[0][0]\n",
    "TP=confmatrix_threshold[1][1]\n",
    "FN=confmatrix_threshold[1][0]\n",
    "FP=confmatrix_threshold[0][1]"
   ]
  },
  {
   "cell_type": "code",
   "execution_count": 40,
   "metadata": {},
   "outputs": [
    {
     "data": {
      "text/plain": [
       "0.6229508196721312"
      ]
     },
     "execution_count": 40,
     "metadata": {},
     "output_type": "execute_result"
    }
   ],
   "source": [
    "sensitivity = TP/(TP+FN)\n",
    "sensitivity"
   ]
  },
  {
   "cell_type": "code",
   "execution_count": 41,
   "metadata": {},
   "outputs": [
    {
     "data": {
      "text/plain": [
       "0.7603231597845601"
      ]
     },
     "execution_count": 41,
     "metadata": {},
     "output_type": "execute_result"
    }
   ],
   "source": [
    "especificity = TN/(TN+FP)\n",
    "especificity"
   ]
  },
  {
   "cell_type": "code",
   "execution_count": 42,
   "metadata": {},
   "outputs": [
    {
     "data": {
      "text/plain": [
       "0.2396768402154399"
      ]
     },
     "execution_count": 42,
     "metadata": {},
     "output_type": "execute_result"
    }
   ],
   "source": [
    "1-especificity"
   ]
  },
  {
   "cell_type": "code",
   "execution_count": 81,
   "metadata": {},
   "outputs": [],
   "source": [
    "#######################################\n",
    "##5. Loop changing threshold\n",
    "#######################################\n",
    "\n",
    "sens = [1]\n",
    "espec_1 = [1]\n",
    "threshold = [0.02,0.03,0.04,0.05,0.10,0.15,0.18,0.20,0.25,0.3,0.35,0.4,0.45,0.5]\n",
    "for t in threshold:\n",
    "    prob = y_pred_prob[:,1]\n",
    "    prob_df = pd.DataFrame(prob)\n",
    "    prob_df['Prediction_threshold'] = np.where(prob_df[0]>t,1,0)\n",
    "    prob_df['Prediction'] = list(y_pred)\n",
    "    prob_df['Actual'] = list(y_test)\n",
    "    \n",
    "    confmatrix_threshold = pd.crosstab(prob_df['Prediction_threshold'],prob_df['Actual'])\n",
    "\n",
    "    TN=confmatrix_threshold[0][0]\n",
    "    TP=confmatrix_threshold[1][1]\n",
    "    FN=confmatrix_threshold[1][0]\n",
    "    FP=confmatrix_threshold[0][1]\n",
    "\n",
    "    sensitivity = TP/(TP+FN)\n",
    "    sens.append(sensitivity)\n",
    "    especificity = TN/(TN+FP)\n",
    "    espec_1.append(1-especificity)\n",
    "\n",
    "sens.append(0)\n",
    "espec_1.append(0)"
   ]
  },
  {
   "cell_type": "code",
   "execution_count": 82,
   "metadata": {},
   "outputs": [
    {
     "data": {
      "text/plain": [
       "[1,\n",
       " 1.0,\n",
       " 0.9590163934426229,\n",
       " 0.9590163934426229,\n",
       " 0.8770491803278688,\n",
       " 0.6229508196721312,\n",
       " 0.5491803278688525,\n",
       " 0.5163934426229508,\n",
       " 0.5,\n",
       " 0.4180327868852459,\n",
       " 0.3442622950819672,\n",
       " 0.2459016393442623,\n",
       " 0.1721311475409836,\n",
       " 0.1557377049180328,\n",
       " 0.14754098360655737,\n",
       " 0]"
      ]
     },
     "execution_count": 82,
     "metadata": {},
     "output_type": "execute_result"
    }
   ],
   "source": [
    "sens"
   ]
  },
  {
   "cell_type": "code",
   "execution_count": 83,
   "metadata": {},
   "outputs": [
    {
     "data": {
      "text/plain": [
       "[1,\n",
       " 0.9766606822262118,\n",
       " 0.7836624775583483,\n",
       " 0.7657091561938959,\n",
       " 0.6292639138240574,\n",
       " 0.2396768402154399,\n",
       " 0.13464991023339323,\n",
       " 0.125673249551167,\n",
       " 0.12298025134649915,\n",
       " 0.0763016157989228,\n",
       " 0.050269299820466795,\n",
       " 0.030520646319569078,\n",
       " 0.01795332136445238,\n",
       " 0.015260323159784539,\n",
       " 0.015260323159784539,\n",
       " 0]"
      ]
     },
     "execution_count": 83,
     "metadata": {},
     "output_type": "execute_result"
    }
   ],
   "source": [
    "espec_1"
   ]
  },
  {
   "cell_type": "code",
   "execution_count": 84,
   "metadata": {},
   "outputs": [
    {
     "data": {
      "image/png": "[encoded data removed]",
      "text/plain": [
       "<Figure size 432x288 with 1 Axes>"
      ]
     },
     "metadata": {},
     "output_type": "display_data"
    }
   ],
   "source": [
    "plt.plot(espec_1,sens,marker='o',linestyle='--',color='red')\n",
    "x = [i*0.01 for i in range(100)]\n",
    "y = [i*0.01 for i in range(100)]\n",
    "plt.plot(x,y)\n",
    "plt.xlabel('1-Especificity')\n",
    "plt.ylabel('Sensitivity')\n",
    "plt.title('Curva ROC');"
   ]
  },
  {
   "cell_type": "code",
   "execution_count": 116,
   "metadata": {},
   "outputs": [
    {
     "data": {
      "image/png": "[encoded data removed]",
      "text/plain": [
       "<Figure size 432x288 with 1 Axes>"
      ]
     },
     "metadata": {},
     "output_type": "display_data"
    }
   ],
   "source": [
    "from sklearn import metrics \n",
    "especificity_1, sensitivity, thresholds = metrics.roc_curve(y_test, y_pred_prob[:,1])\n",
    "plt.plot(especificity, sensitivity)\n",
    "plt.xlim([0.0, 1.0])\n",
    "plt.ylim([0.0, 1.0])\n",
    "plt.title('ROC curve')\n",
    "plt.xlabel('False Positive Rate (1 - Specificity)\\n+++Specificity---')\n",
    "plt.ylabel('True Positive Rate (Sensitivity)\\n---Sensitivity+++')\n",
    "plt.grid(True)"
   ]
  },
  {
   "cell_type": "code",
   "execution_count": 117,
   "metadata": {},
   "outputs": [],
   "source": [
    "df = pd.DataFrame( {\n",
    "                    '1_especificity':especificity_1,\n",
    "                    'sensitivity':sensitivity,\n",
    "                    'threshold':thresholds\n",
    "})"
   ]
  },
  {
   "cell_type": "code",
   "execution_count": 118,
   "metadata": {},
   "outputs": [
    {
     "data": {
      "text/html": [
       "<div>\n",
       "<style scoped>\n",
       "    .dataframe tbody tr th:only-of-type {\n",
       "        vertical-align: middle;\n",
       "    }\n",
       "\n",
       "    .dataframe tbody tr th {\n",
       "        vertical-align: top;\n",
       "    }\n",
       "\n",
       "    .dataframe thead th {\n",
       "        text-align: right;\n",
       "    }\n",
       "</style>\n",
       "<table border=\"1\" class=\"dataframe\">\n",
       "  <thead>\n",
       "    <tr style=\"text-align: right;\">\n",
       "      <th></th>\n",
       "      <th>1_especificity</th>\n",
       "      <th>sensitivity</th>\n",
       "      <th>threshold</th>\n",
       "    </tr>\n",
       "  </thead>\n",
       "  <tbody>\n",
       "    <tr>\n",
       "      <th>0</th>\n",
       "      <td>0.000000</td>\n",
       "      <td>0.008197</td>\n",
       "      <td>0.943988</td>\n",
       "    </tr>\n",
       "    <tr>\n",
       "      <th>1</th>\n",
       "      <td>0.000000</td>\n",
       "      <td>0.032787</td>\n",
       "      <td>0.892717</td>\n",
       "    </tr>\n",
       "    <tr>\n",
       "      <th>2</th>\n",
       "      <td>0.000898</td>\n",
       "      <td>0.032787</td>\n",
       "      <td>0.870633</td>\n",
       "    </tr>\n",
       "    <tr>\n",
       "      <th>3</th>\n",
       "      <td>0.000898</td>\n",
       "      <td>0.057377</td>\n",
       "      <td>0.827915</td>\n",
       "    </tr>\n",
       "    <tr>\n",
       "      <th>4</th>\n",
       "      <td>0.001795</td>\n",
       "      <td>0.057377</td>\n",
       "      <td>0.805819</td>\n",
       "    </tr>\n",
       "  </tbody>\n",
       "</table>\n",
       "</div>"
      ],
      "text/plain": [
       "   1_especificity  sensitivity  threshold\n",
       "0        0.000000     0.008197   0.943988\n",
       "1        0.000000     0.032787   0.892717\n",
       "2        0.000898     0.032787   0.870633\n",
       "3        0.000898     0.057377   0.827915\n",
       "4        0.001795     0.057377   0.805819"
      ]
     },
     "execution_count": 118,
     "metadata": {},
     "output_type": "execute_result"
    }
   ],
   "source": [
    "df.head()"
   ]
  },
  {
   "cell_type": "code",
   "execution_count": 119,
   "metadata": {},
   "outputs": [
    {
     "data": {
      "image/png": "[encoded data removed]",
      "text/plain": [
       "<Figure size 792x576 with 1 Axes>"
      ]
     },
     "metadata": {},
     "output_type": "display_data"
    },
    {
     "data": {
      "text/plain": [
       "<ggplot: (8759313253510)>"
      ]
     },
     "execution_count": 119,
     "metadata": {},
     "output_type": "execute_result"
    }
   ],
   "source": [
    "from ggplot import *\n",
    "ggplot(df,aes(x='1_especificity',y='sensitivity')) + geom_line() + geom_abline(linetype='dashed') + xlim(-0.01,1.01) + ylim(-0.01,1.01) + xlab('1 - Especifidad') + ylab('Sensibilidad')"
   ]
  },
  {
   "cell_type": "code",
   "execution_count": 107,
   "metadata": {},
   "outputs": [
    {
     "data": {
      "text/plain": [
       "0.764351620213674"
      ]
     },
     "execution_count": 107,
     "metadata": {},
     "output_type": "execute_result"
    }
   ],
   "source": [
    "from sklearn import metrics \n",
    "auc = metrics.roc_auc_score(y_test, y_pred_prob[:,1])\n",
    "auc"
   ]
  },
  {
   "cell_type": "code",
   "execution_count": 114,
   "metadata": {},
   "outputs": [
    {
     "data": {
      "image/png": "[encoded data removed]",
      "text/plain": [
       "<Figure size 792x576 with 1 Axes>"
      ]
     },
     "metadata": {},
     "output_type": "display_data"
    },
    {
     "data": {
      "text/plain": [
       "<ggplot: (-9223363277541061218)>"
      ]
     },
     "execution_count": 114,
     "metadata": {},
     "output_type": "execute_result"
    }
   ],
   "source": [
    "ggplot(df,aes(x='1_especificity',y='sensitivity')) + geom_area(alpha=0.25) + geom_line(aes(y='sensitivity'))+ggtitle('Curva ROC y AUC=%s'%(str(auc))) + xlab('1 - Especifidad') + ylab('Sensibilidad')"
   ]
  }
 ],
 "metadata": {
  "kernelspec": {
   "display_name": "Python 3",
   "language": "python",
   "name": "python3"
  },
  "language_info": {
   "codemirror_mode": {
    "name": "ipython",
    "version": 3
   },
   "file_extension": ".py",
   "mimetype": "text/x-python",
   "name": "python",
   "nbconvert_exporter": "python",
   "pygments_lexer": "ipython3",
   "version": "3.6.7"
  }
 },
 "nbformat": 4,
 "nbformat_minor": 2
}
