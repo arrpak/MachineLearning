{
 "cells": [
  {
   "cell_type": "markdown",
   "metadata": {},
   "source": [
    "# Train Test Model"
   ]
  },
  {
   "cell_type": "code",
   "execution_count": 1,
   "metadata": {},
   "outputs": [],
   "source": [
    "#######################################\n",
    "##1. Importing Libreries         \n",
    "#######################################\n",
    "import pandas as pd\n",
    "import numpy as np\n",
    "import matplotlib.pyplot as plt\n",
    "%matplotlib inline\n",
    "\n",
    "#######################################\n",
    "##2. Setting Options         \n",
    "#######################################\n",
    "pd.set_option('display.max_columns', 500)\n",
    "\n",
    "#######################################\n",
    "##3. Reading Dataset         \n",
    "#######################################\n",
    "data = pd.read_csv('../datasets/bank/bank.csv',sep=';')\n",
    "\n",
    "#######################################\n",
    "##3. Cleaning Features         \n",
    "#######################################\n",
    "# Grouping\n",
    "data['education'] = np.where(data['education'] == 'basic.4y', 'Basic', data['education'])\n",
    "data['education'] = np.where(data['education'] == 'basic.6y', 'Basic', data['education'])\n",
    "data['education'] = np.where(data['education'] == 'basic.9y', 'Basic', data['education'])\n",
    "# Renaming\n",
    "data['education'] = np.where(data['education'] == 'high.school', 'High School', data['education'])\n",
    "data['education'] = np.where(data['education'] == 'professional.course', 'Professional Course', data['education'])\n",
    "data['education'] = np.where(data['education'] == 'professional.course', 'Professional Course', data['education'])\n",
    "data['education'] = np.where(data['education'] == 'university.degree', 'University Degree', data['education'])\n",
    "data['education'] = np.where(data['education'] == 'illiterate', 'Illitirate', data['education'])\n",
    "data['education'] = np.where(data['education'] == 'unknown', 'Unknown', data['education'])\n",
    "# Response to Dummie feature\n",
    "data.loc[data['y']=='yes','y'] = 1\n",
    "data.loc[data['y']=='no','y'] = 0\n",
    "# From categorical features to dummie features\n",
    "categories = ['job','marital','education','default','housing','loan','contact','month','day_of_week','poutcome']\n",
    "for category in categories:\n",
    "    cat_list = 'cat'+'_'+category\n",
    "    cat_dummies = pd.get_dummies(data[category],prefix=cat_list)\n",
    "    data = data.join(cat_dummies)\n",
    "# Dropping Features\n",
    "data.drop(columns=categories, inplace=True)\n",
    "# Splitting X and y\n",
    "datacols = data.columns.values.tolist()\n",
    "subset_y = ['y']\n",
    "subset_X = [v for v in datacols if v != 'y']\n",
    "\n",
    "#######################################\n",
    "##4. Feature Selection      \n",
    "#######################################\n",
    "# Importing Libraries\n",
    "from sklearn.feature_selection import RFE\n",
    "from sklearn.svm import SVR\n",
    "from sklearn.linear_model import LogisticRegression\n",
    "# Number of features that i have to keep\n",
    "n = 12\n",
    "# Instantiating\n",
    "logreg = LogisticRegression()\n",
    "rfe = RFE(logreg, n)\n",
    "# Training\n",
    "rfe.fit(data[subset_X],data[subset_y].values.ravel())\n",
    "# Chosing the new features\n",
    "final_subset_X = []\n",
    "for i in range(len(subset_X)):\n",
    "    if rfe.support_[i] == True:\n",
    "        final_subset_X.append(subset_X[i])\n",
    "# X and y to develope the model\n",
    "X = data[final_subset_X]\n",
    "y = data['y']"
   ]
  },
  {
   "cell_type": "markdown",
   "metadata": {},
   "source": [
    "### Splitting our Dataset "
   ]
  },
  {
   "cell_type": "code",
   "execution_count": 2,
   "metadata": {},
   "outputs": [],
   "source": [
    "from sklearn.model_selection import train_test_split\n",
    "X_train, X_test, y_train, y_test = train_test_split(X,y,test_size=0.3, random_state = 0) "
   ]
  },
  {
   "cell_type": "markdown",
   "metadata": {},
   "source": [
    "### Sklearn"
   ]
  },
  {
   "cell_type": "code",
   "execution_count": 3,
   "metadata": {},
   "outputs": [
    {
     "data": {
      "text/plain": [
       "LogisticRegression(C=1.0, class_weight=None, dual=False, fit_intercept=True,\n",
       "          intercept_scaling=1, max_iter=100, multi_class='ovr', n_jobs=1,\n",
       "          penalty='l2', random_state=None, solver='liblinear', tol=0.0001,\n",
       "          verbose=0, warm_start=False)"
      ]
     },
     "execution_count": 3,
     "metadata": {},
     "output_type": "execute_result"
    }
   ],
   "source": [
    "from sklearn.linear_model import LogisticRegression\n",
    "logreg = LogisticRegression()\n",
    "logreg.fit(X_train,y_train)"
   ]
  },
  {
   "cell_type": "code",
   "execution_count": 4,
   "metadata": {},
   "outputs": [
    {
     "data": {
      "text/latex": [
       "$$Y_p=\\begin{cases}0& si\\ p\\leq0.5\\\\1&si\\ p >0.5\\end{cases}$$"
      ],
      "text/plain": [
       "<IPython.core.display.Math object>"
      ]
     },
     "metadata": {},
     "output_type": "display_data"
    }
   ],
   "source": [
    "from IPython.display import display, Math, Latex\n",
    "display(Math(r'Y_p=\\begin{cases}0& si\\ p\\leq0.5\\\\1&si\\ p >0.5\\end{cases}'))"
   ]
  },
  {
   "cell_type": "code",
   "execution_count": 5,
   "metadata": {},
   "outputs": [
    {
     "data": {
      "text/plain": [
       "array([[0.93352157, 0.06647843],\n",
       "       [0.88259365, 0.11740635],\n",
       "       [0.93040666, 0.06959334],\n",
       "       ...,\n",
       "       [0.73273217, 0.26726783],\n",
       "       [0.97862459, 0.02137541],\n",
       "       [0.24746608, 0.75253392]])"
      ]
     },
     "execution_count": 5,
     "metadata": {},
     "output_type": "execute_result"
    }
   ],
   "source": [
    "y_pred_prob = logreg.predict_proba(X_test) \n",
    "y_pred_prob"
   ]
  },
  {
   "cell_type": "code",
   "execution_count": 6,
   "metadata": {},
   "outputs": [
    {
     "data": {
      "text/plain": [
       "array([0, 0, 0, ..., 0, 0, 1])"
      ]
     },
     "execution_count": 6,
     "metadata": {},
     "output_type": "execute_result"
    }
   ],
   "source": [
    "y_pred=logreg.predict(X_test) \n",
    "y_pred"
   ]
  },
  {
   "cell_type": "code",
   "execution_count": 7,
   "metadata": {},
   "outputs": [
    {
     "data": {
      "text/plain": [
       "0.9021035598705501"
      ]
     },
     "execution_count": 7,
     "metadata": {},
     "output_type": "execute_result"
    }
   ],
   "source": [
    "# Score\n",
    "logreg.score(X_test,y_test)"
   ]
  },
  {
   "cell_type": "code",
   "execution_count": 8,
   "metadata": {},
   "outputs": [
    {
     "data": {
      "text/plain": [
       "0.8905074047098811"
      ]
     },
     "execution_count": 8,
     "metadata": {},
     "output_type": "execute_result"
    }
   ],
   "source": [
    "from sklearn.model_selection import cross_val_score"
   ]
  },
  {
   "cell_type": "code",
   "execution_count": 9,
   "metadata": {},
   "outputs": [
    {
     "data": {
      "text/latex": [
       "$$\\varepsilon\\in (0,1), Y_p=\\begin{cases}0& si\\ p\\leq \\varepsilon\\\\1&si\\ p >\\varepsilon\\end{cases}$$"
      ],
      "text/plain": [
       "<IPython.core.display.Math object>"
      ]
     },
     "metadata": {},
     "output_type": "display_data"
    },
    {
     "name": "stdout",
     "output_type": "stream",
     "text": [
      "Podríamos cambiar el threshold\n"
     ]
    }
   ],
   "source": [
    "display(Math(r'\\varepsilon\\in (0,1), Y_p=\\begin{cases}0& si\\ p\\leq \\varepsilon\\\\1&si\\ p >\\varepsilon\\end{cases}'))\n",
    "print('Podríamos cambiar el threshold')"
   ]
  },
  {
   "cell_type": "code",
   "execution_count": 10,
   "metadata": {},
   "outputs": [
    {
     "data": {
      "text/plain": [
       "0.9021035598705501"
      ]
     },
     "execution_count": 10,
     "metadata": {},
     "output_type": "execute_result"
    }
   ],
   "source": [
    "from sklearn import metrics\n",
    "metrics.accuracy_score(y_test, y_pred) "
   ]
  }
 ],
 "metadata": {
  "kernelspec": {
   "display_name": "Python 3",
   "language": "python",
   "name": "python3"
  },
  "language_info": {
   "codemirror_mode": {
    "name": "ipython",
    "version": 3
   },
   "file_extension": ".py",
   "mimetype": "text/x-python",
   "name": "python",
   "nbconvert_exporter": "python",
   "pygments_lexer": "ipython3",
   "version": "3.6.8"
  }
 },
 "nbformat": 4,
 "nbformat_minor": 2
}
