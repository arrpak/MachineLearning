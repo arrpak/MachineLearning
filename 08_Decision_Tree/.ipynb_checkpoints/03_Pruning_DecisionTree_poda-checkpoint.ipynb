{
 "cells": [
  {
   "cell_type": "markdown",
   "metadata": {},
   "source": [
    "# Pruning Decision Tree: La poda der árbol"
   ]
  },
  {
   "cell_type": "markdown",
   "metadata": {},
   "source": [
    "### Cross Validation for pruning the tree\n",
    "\n",
    "- Para obtener un árbol óptimo en profundidad"
   ]
  },
  {
   "cell_type": "code",
   "execution_count": 2,
   "metadata": {},
   "outputs": [],
   "source": [
    "#############################\n",
    "### Preparing Data\n",
    "#############################\n",
    "# Importing Libraries\n",
    "import pandas as pd\n",
    "import numpy as np\n",
    "import matplotlib.pyplot as plt\n",
    "%matplotlib inline\n",
    "# Reading File\n",
    "data = pd.read_csv('../datasets/iris/iris.csv')\n",
    "# Definiendo Features y Target\n",
    "colnames =  data.columns.tolist()\n",
    "features = colnames[0:4]\n",
    "target = colnames[4]\n",
    "X = data[features]\n",
    "y = data[target]\n",
    "# # Splitting: Train and Test\n",
    "# from sklearn.model_selection import train_test_split\n",
    "# X_train, X_test, y_train, y_test = train_test_split(X,y,test_size=0.25, random_state = 4)\n",
    "# print('Train:',X_train.shape,y_train.shape)\n",
    "# print('Test:',X_test.shape,y_test.shape)"
   ]
  },
  {
   "cell_type": "code",
   "execution_count": 3,
   "metadata": {},
   "outputs": [
    {
     "data": {
      "text/plain": [
       "DecisionTreeClassifier(class_weight=None, criterion='entropy', max_depth=5,\n",
       "            max_features=None, max_leaf_nodes=None,\n",
       "            min_impurity_decrease=0.0, min_impurity_split=None,\n",
       "            min_samples_leaf=1, min_samples_split=20,\n",
       "            min_weight_fraction_leaf=0.0, presort=False, random_state=99,\n",
       "            splitter='best')"
      ]
     },
     "execution_count": 3,
     "metadata": {},
     "output_type": "execute_result"
    }
   ],
   "source": [
    "#############################\n",
    "### Decision Tree\n",
    "#############################\n",
    "# Importing\n",
    "from sklearn.tree import DecisionTreeClassifier\n",
    "# Gini criterion by Default\n",
    "# min_samples_split: número mínimo de elementos para que un nodo se divida en un subnodo por defecto es 2 CUIDADO OVERFITTING!!!!!\n",
    "tree = DecisionTreeClassifier(criterion='entropy',max_depth=5 ,min_samples_split=20 , random_state=99)\n",
    "tree.fit(X,y)"
   ]
  },
  {
   "cell_type": "code",
   "execution_count": 19,
   "metadata": {},
   "outputs": [
    {
     "data": {
      "text/plain": [
       "0.9333333333333333"
      ]
     },
     "execution_count": 19,
     "metadata": {},
     "output_type": "execute_result"
    }
   ],
   "source": [
    "from sklearn.model_selection import KFold\n",
    "cv = KFold(n_splits=10,shuffle=True,random_state=1)\n",
    "from sklearn.model_selection import cross_val_score\n",
    "scores = cross_val_score(tree, X, y, cv=cv,scoring='accuracy')\n",
    "scores.mean()"
   ]
  },
  {
   "cell_type": "code",
   "execution_count": 6,
   "metadata": {},
   "outputs": [
    {
     "data": {
      "text/plain": [
       "array([1.        , 0.93333333, 0.93333333, 0.93333333, 1.        ,\n",
       "       0.93333333, 1.        , 0.86666667, 0.93333333, 0.8       ])"
      ]
     },
     "execution_count": 6,
     "metadata": {},
     "output_type": "execute_result"
    }
   ],
   "source": [
    "scores"
   ]
  },
  {
   "cell_type": "code",
   "execution_count": 25,
   "metadata": {},
   "outputs": [
    {
     "name": "stdout",
     "output_type": "stream",
     "text": [
      "********************************************\n",
      "MAX_DEPTH = 1 \n",
      "Score: 0.5666666666666667\n",
      "FEATURE IMPORTANCE:\n",
      "Feature_0: 0.0\n",
      "Feature_1: 0.0\n",
      "Feature_2: 1.0\n",
      "Feature_3: 0.0\n",
      "********************************************\n",
      "MAX_DEPTH = 2 \n",
      "Score: 0.9200000000000002\n",
      "FEATURE IMPORTANCE:\n",
      "Feature_0: 0.0\n",
      "Feature_1: 0.0\n",
      "Feature_2: 0.6662028463448376\n",
      "Feature_3: 0.3337971536551623\n",
      "********************************************\n",
      "MAX_DEPTH = 3 \n",
      "Score: 0.9400000000000001\n",
      "FEATURE IMPORTANCE:\n",
      "Feature_0: 0.0\n",
      "Feature_1: 0.0\n",
      "Feature_2: 0.6897698149958357\n",
      "Feature_3: 0.3102301850041643\n",
      "********************************************\n",
      "MAX_DEPTH = 4 \n",
      "Score: 0.9333333333333333\n",
      "FEATURE IMPORTANCE:\n",
      "Feature_0: 0.0\n",
      "Feature_1: 0.0\n",
      "Feature_2: 0.6686915796639514\n",
      "Feature_3: 0.33130842033604857\n",
      "********************************************\n",
      "MAX_DEPTH = 5 \n",
      "Score: 0.9333333333333333\n",
      "FEATURE IMPORTANCE:\n",
      "Feature_0: 0.0\n",
      "Feature_1: 0.0\n",
      "Feature_2: 0.6686915796639514\n",
      "Feature_3: 0.33130842033604857\n",
      "********************************************\n",
      "MAX_DEPTH = 6 \n",
      "Score: 0.9333333333333333\n",
      "FEATURE IMPORTANCE:\n",
      "Feature_0: 0.0\n",
      "Feature_1: 0.0\n",
      "Feature_2: 0.6686915796639514\n",
      "Feature_3: 0.33130842033604857\n",
      "********************************************\n",
      "MAX_DEPTH = 7 \n",
      "Score: 0.9333333333333333\n",
      "FEATURE IMPORTANCE:\n",
      "Feature_0: 0.0\n",
      "Feature_1: 0.0\n",
      "Feature_2: 0.6686915796639514\n",
      "Feature_3: 0.33130842033604857\n",
      "********************************************\n",
      "MAX_DEPTH = 8 \n",
      "Score: 0.9333333333333333\n",
      "FEATURE IMPORTANCE:\n",
      "Feature_0: 0.0\n",
      "Feature_1: 0.0\n",
      "Feature_2: 0.6686915796639514\n",
      "Feature_3: 0.33130842033604857\n",
      "********************************************\n",
      "MAX_DEPTH = 9 \n",
      "Score: 0.9333333333333333\n",
      "FEATURE IMPORTANCE:\n",
      "Feature_0: 0.0\n",
      "Feature_1: 0.0\n",
      "Feature_2: 0.6686915796639514\n",
      "Feature_3: 0.33130842033604857\n",
      "********************************************\n",
      "MAX_DEPTH = 10 \n",
      "Score: 0.9333333333333333\n",
      "FEATURE IMPORTANCE:\n",
      "Feature_0: 0.0\n",
      "Feature_1: 0.0\n",
      "Feature_2: 0.6686915796639514\n",
      "Feature_3: 0.33130842033604857\n"
     ]
    }
   ],
   "source": [
    "for i in range(1,11):\n",
    "    tree = DecisionTreeClassifier(criterion='entropy',max_depth=i ,min_samples_split=20 , random_state=99)\n",
    "    tree.fit(X,y)\n",
    "    from sklearn.model_selection import KFold\n",
    "    cv = KFold(n_splits=10,shuffle=True,random_state=1)\n",
    "    from sklearn.model_selection import cross_val_score\n",
    "    scores = cross_val_score(tree, X, y, cv=cv,scoring='accuracy')\n",
    "    print('********************************************')\n",
    "    print('MAX_DEPTH = %s \\nScore: %s'%(i,scores.mean()))\n",
    "    print('FEATURE IMPORTANCE:')\n",
    "    for j in range(len(tree.feature_importances_)):\n",
    "        print('Feature_%s: %s'%(j,tree.feature_importances_[j]))"
   ]
  },
  {
   "cell_type": "markdown",
   "metadata": {},
   "source": [
    "__Máxima Profundidad con mayor Accuracy: 3__\n",
    "\n",
    "\n",
    "__La variable con mayos importancia es la Longitud del Pétalo y seguidamente la Anchura del Pétalo__"
   ]
  }
 ],
 "metadata": {
  "kernelspec": {
   "display_name": "Python 3",
   "language": "python",
   "name": "python3"
  },
  "language_info": {
   "codemirror_mode": {
    "name": "ipython",
    "version": 3
   },
   "file_extension": ".py",
   "mimetype": "text/x-python",
   "name": "python",
   "nbconvert_exporter": "python",
   "pygments_lexer": "ipython3",
   "version": "3.6.7"
  }
 },
 "nbformat": 4,
 "nbformat_minor": 2
}
