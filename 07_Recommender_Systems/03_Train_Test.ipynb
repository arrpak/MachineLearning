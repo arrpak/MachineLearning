{
 "cells": [
  {
   "cell_type": "markdown",
   "metadata": {},
   "source": [
    "# Training Subset and Testing Subset"
   ]
  },
  {
   "cell_type": "code",
   "execution_count": 1,
   "metadata": {},
   "outputs": [
    {
     "name": "stdout",
     "output_type": "stream",
     "text": [
      "Number of Users: 943\n",
      "Number of Items: 1682\n",
      "Sparsity Coefficient: 6.30 \n"
     ]
    }
   ],
   "source": [
    "#################################\n",
    "## 1. Importing Libraries\n",
    "#################################\n",
    "import pandas as pd\n",
    "import numpy as np\n",
    "import matplotlib.pyplot as plt\n",
    "%matplotlib inline\n",
    "\n",
    "#################################\n",
    "## 2. Importing Dataset\n",
    "#################################\n",
    "df = pd.read_csv('../datasets/ml-100k/u.data.csv', sep='\\t', header=None,names=['UserID','ItemID','Rating','TimeStamp'])\n",
    "\n",
    "#################################\n",
    "## 3. Sparse Matrix\n",
    "#################################\n",
    "# Number of Users\n",
    "n_users = df['UserID'].unique().shape[0]\n",
    "print('Number of Users: %s'%(n_users))\n",
    "\n",
    "# Number of Films\n",
    "n_items = df['ItemID'].unique().shape[0]\n",
    "print('Number of Items: %s'%(n_items))\n",
    "\n",
    "# Building a Sparse Matrix\n",
    "ratings = np.zeros((n_users, n_items))\n",
    "\n",
    "for row in df.itertuples():\n",
    "    ratings[row[1]-1,row[2]-1] = row[3]\n",
    "    \n",
    "# Sparsity Coefficient: % de la matriz que no está vacía\n",
    "sparsity =float(len(ratings.nonzero()[0]))\n",
    "sparsity /= (ratings.shape[0]*ratings.shape[1])\n",
    "sparsity *= 100\n",
    "print('Sparsity Coefficient: %.2f '%(sparsity))"
   ]
  },
  {
   "cell_type": "code",
   "execution_count": 3,
   "metadata": {},
   "outputs": [],
   "source": [
    "#################################\n",
    "## 4. Train and Test\n",
    "#################################\n",
    "from sklearn.model_selection import train_test_split\n",
    "ratings_train, ratings_test = train_test_split(ratings,test_size=0.3, random_state = 42) "
   ]
  },
  {
   "cell_type": "code",
   "execution_count": 4,
   "metadata": {},
   "outputs": [
    {
     "name": "stdout",
     "output_type": "stream",
     "text": [
      "(660, 1682)\n",
      "(283, 1682)\n"
     ]
    }
   ],
   "source": [
    "print(ratings_train.shape)\n",
    "print(ratings_test.shape)"
   ]
  },
  {
   "cell_type": "code",
   "execution_count": null,
   "metadata": {},
   "outputs": [],
   "source": []
  }
 ],
 "metadata": {
  "kernelspec": {
   "display_name": "Python 3",
   "language": "python",
   "name": "python3"
  },
  "language_info": {
   "codemirror_mode": {
    "name": "ipython",
    "version": 3
   },
   "file_extension": ".py",
   "mimetype": "text/x-python",
   "name": "python",
   "nbconvert_exporter": "python",
   "pygments_lexer": "ipython3",
   "version": "3.6.6"
  }
 },
 "nbformat": 4,
 "nbformat_minor": 2
}
