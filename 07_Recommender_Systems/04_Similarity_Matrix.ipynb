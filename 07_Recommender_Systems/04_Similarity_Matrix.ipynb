{
 "cells": [
  {
   "cell_type": "markdown",
   "metadata": {},
   "source": [
    "# Similarity Matrix\n",
    "\n",
    "- Similarity Matrix: Entre los usuarios, ver cuales se parecen entre si\n",
    "- Similarity Matrix: Distancia del Coseno\n",
    "- Predecir la valoración desconocida de un item 'i' para un usuario activo 'u' basandose en la suma ponderada de todas las valoraciones del resto de usuarios para dicho item\n",
    "- Recomendar los nuevos items a los usuarios según lo establecido en los pasos anteriores\n"
   ]
  },
  {
   "cell_type": "code",
   "execution_count": 2,
   "metadata": {},
   "outputs": [
    {
     "name": "stdout",
     "output_type": "stream",
     "text": [
      "Number of Users: 943\n",
      "Number of Items: 1682\n",
      "Sparsity Coefficient: 6.30 \n",
      "Training Matrix: Rows 660 Columns 1682\n",
      "Testing Matrix: Rows 283 Columns 1682\n"
     ]
    }
   ],
   "source": [
    "#################################\n",
    "## 1. Importing Libraries\n",
    "#################################\n",
    "import pandas as pd\n",
    "import numpy as np\n",
    "import matplotlib.pyplot as plt\n",
    "%matplotlib inline\n",
    "\n",
    "#################################\n",
    "## 2. Importing Dataset\n",
    "#################################\n",
    "df = pd.read_csv('../datasets/ml-100k/u.data.csv', sep='\\t', header=None,names=['UserID','ItemID','Rating','TimeStamp'])\n",
    "\n",
    "#################################\n",
    "## 3. Sparse Matrix\n",
    "#################################\n",
    "# Number of Users\n",
    "n_users = df['UserID'].unique().shape[0]\n",
    "print('Number of Users: %s'%(n_users))\n",
    "\n",
    "# Number of Films\n",
    "n_items = df['ItemID'].unique().shape[0]\n",
    "print('Number of Items: %s'%(n_items))\n",
    "\n",
    "# Building a Sparse Matrix\n",
    "ratings = np.zeros((n_users, n_items))\n",
    "\n",
    "for row in df.itertuples():\n",
    "    ratings[row[1]-1,row[2]-1] = row[3]\n",
    "    \n",
    "# Sparsity Coefficient: % de la matriz que no está vacía\n",
    "sparsity =float(len(ratings.nonzero()[0]))\n",
    "sparsity /= (ratings.shape[0]*ratings.shape[1])\n",
    "sparsity *= 100\n",
    "print('Sparsity Coefficient: %.2f '%(sparsity))\n",
    "\n",
    "#################################\n",
    "## 4. Train and Test\n",
    "#################################\n",
    "from sklearn.model_selection import train_test_split\n",
    "ratings_train, ratings_test = train_test_split(ratings,test_size=0.3, random_state = 42) \n",
    "print('Training Matrix: Rows %s Columns %s'%(ratings_train.shape[0],ratings_train.shape[1]))\n",
    "print('Testing Matrix: Rows %s Columns %s'%(ratings_test.shape[0],ratings_test.shape[1]))"
   ]
  },
  {
   "cell_type": "code",
   "execution_count": 5,
   "metadata": {},
   "outputs": [
    {
     "data": {
      "text/plain": [
       "array([[1.        , 0.17448349, 0.18009754, ..., 0.13331459, 0.17695593,\n",
       "        0.21882481],\n",
       "       [0.17448349, 1.        , 0.07993097, ..., 0.07175808, 0.09552622,\n",
       "        0.05512655],\n",
       "       [0.18009754, 0.07993097, 1.        , ..., 0.0191736 , 0.02233385,\n",
       "        0.10310785],\n",
       "       ...,\n",
       "       [0.13331459, 0.07175808, 0.0191736 , ..., 1.        , 0.04853428,\n",
       "        0.05142508],\n",
       "       [0.17695593, 0.09552622, 0.02233385, ..., 0.04853428, 1.        ,\n",
       "        0.1198022 ],\n",
       "       [0.21882481, 0.05512655, 0.10310785, ..., 0.05142508, 0.1198022 ,\n",
       "        1.        ]])"
      ]
     },
     "execution_count": 5,
     "metadata": {},
     "output_type": "execute_result"
    }
   ],
   "source": [
    "#################################\n",
    "## 5. Similarity Matrix\n",
    "#################################\n",
    "import sklearn\n",
    "# sim_matrix = 1- sklearn.metrics.pairwise.cosine_distances(ratings_train)\n",
    "sim_matrix = sklearn.metrics.pairwise.cosine_similarity(ratings_train)\n",
    "sim_matrix"
   ]
  }
 ],
 "metadata": {
  "kernelspec": {
   "display_name": "Python 3",
   "language": "python",
   "name": "python3"
  },
  "language_info": {
   "codemirror_mode": {
    "name": "ipython",
    "version": 3
   },
   "file_extension": ".py",
   "mimetype": "text/x-python",
   "name": "python",
   "nbconvert_exporter": "python",
   "pygments_lexer": "ipython3",
   "version": "3.6.8"
  }
 },
 "nbformat": 4,
 "nbformat_minor": 2
}
