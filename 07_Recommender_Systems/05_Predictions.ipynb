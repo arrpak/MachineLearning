{
 "cells": [
  {
   "cell_type": "markdown",
   "metadata": {},
   "source": [
    "# Users Predictions"
   ]
  },
  {
   "cell_type": "code",
   "execution_count": 1,
   "metadata": {},
   "outputs": [
    {
     "name": "stdout",
     "output_type": "stream",
     "text": [
      "Number of Users: 943\n",
      "Number of Items: 1682\n",
      "Sparsity Coefficient: 6.30 \n",
      "Training Matrix: Rows 660 Columns 1682\n",
      "Testing Matrix: Rows 283 Columns 1682\n"
     ]
    }
   ],
   "source": [
    "#################################\n",
    "## 1. Importing Libraries\n",
    "#################################\n",
    "import pandas as pd\n",
    "import numpy as np\n",
    "import matplotlib.pyplot as plt\n",
    "%matplotlib inline\n",
    "\n",
    "#################################\n",
    "## 2. Importing Dataset\n",
    "#################################\n",
    "df = pd.read_csv('../datasets/ml-100k/u.data.csv', sep='\\t', header=None,names=['UserID','ItemID','Rating','TimeStamp'])\n",
    "\n",
    "#################################\n",
    "## 3. Sparse Matrix\n",
    "#################################\n",
    "# Number of Users\n",
    "n_users = df['UserID'].unique().shape[0]\n",
    "print('Number of Users: %s'%(n_users))\n",
    "\n",
    "# Number of Films\n",
    "n_items = df['ItemID'].unique().shape[0]\n",
    "print('Number of Items: %s'%(n_items))\n",
    "\n",
    "# Building a Sparse Matrix\n",
    "ratings = np.zeros((n_users, n_items))\n",
    "\n",
    "for row in df.itertuples():\n",
    "    ratings[row[1]-1,row[2]-1] = row[3]\n",
    "    \n",
    "# Sparsity Coefficient: % de la matriz que no está vacía\n",
    "sparsity =float(len(ratings.nonzero()[0]))\n",
    "sparsity /= (ratings.shape[0]*ratings.shape[1])\n",
    "sparsity *= 100\n",
    "print('Sparsity Coefficient: %.2f '%(sparsity))\n",
    "\n",
    "#################################\n",
    "## 4. Train and Test\n",
    "#################################\n",
    "from sklearn.model_selection import train_test_split\n",
    "ratings_train, ratings_test = train_test_split(ratings,test_size=0.3, random_state = 42) \n",
    "print('Training Matrix: Rows %s Columns %s'%(ratings_train.shape[0],ratings_train.shape[1]))\n",
    "print('Testing Matrix: Rows %s Columns %s'%(ratings_test.shape[0],ratings_test.shape[1]))\n",
    "\n",
    "#################################\n",
    "## 5. Similarity Matrix\n",
    "#################################\n",
    "import sklearn\n",
    "# sim_matrix = 1- sklearn.metrics.pairwise.cosine_distances(ratings_train)\n",
    "sim_matrix = sklearn.metrics.pairwise.cosine_similarity(ratings_train)"
   ]
  },
  {
   "cell_type": "code",
   "execution_count": 3,
   "metadata": {},
   "outputs": [],
   "source": [
    "#################################\n",
    "## 6. Predictions\n",
    "#################################\n",
    "# Valores que no conocemos de los items que el usuario no ha tomado o visualizado, se pueden obtener ponderando la matriz de distancias con los ratings de los usuarios que si han visto esas películas y normalizando los datos\n",
    "users_pred = sim_matrix.dot(ratings_train) / np.array([np.abs(sim_matrix).sum(axis=1)]).T"
   ]
  },
  {
   "cell_type": "code",
   "execution_count": 4,
   "metadata": {},
   "outputs": [
    {
     "data": {
      "text/plain": [
       "array([[2.10259747e+00, 5.86975978e-01, 3.40264192e-01, ...,\n",
       "        0.00000000e+00, 7.33611460e-03, 6.04379414e-03],\n",
       "       [1.40999723e+00, 2.91863934e-01, 2.68085289e-01, ...,\n",
       "        0.00000000e+00, 3.50378592e-03, 2.32963985e-03],\n",
       "       [1.69014833e+00, 3.13648440e-01, 3.26127887e-01, ...,\n",
       "        0.00000000e+00, 3.25391767e-03, 1.77210119e-03],\n",
       "       ...,\n",
       "       [1.73393747e+00, 4.06719333e-01, 3.21166908e-01, ...,\n",
       "        0.00000000e+00, 2.71269625e-03, 9.00511411e-03],\n",
       "       [2.34361031e+00, 8.10544770e-01, 4.73941025e-01, ...,\n",
       "        0.00000000e+00, 1.01130066e-02, 9.66427605e-03],\n",
       "       [2.36796969e+00, 5.98146138e-01, 3.85569804e-01, ...,\n",
       "        0.00000000e+00, 6.39996638e-03, 5.37442746e-03]])"
      ]
     },
     "execution_count": 4,
     "metadata": {},
     "output_type": "execute_result"
    }
   ],
   "source": [
    "users_pred"
   ]
  },
  {
   "cell_type": "code",
   "execution_count": 5,
   "metadata": {},
   "outputs": [
    {
     "data": {
      "text/plain": [
       "7.878218313143215"
      ]
     },
     "execution_count": 5,
     "metadata": {},
     "output_type": "execute_result"
    }
   ],
   "source": [
    "from sklearn.metrics import mean_squared_error\n",
    "def get_mse(preds,actuals):\n",
    "    preds = preds[actuals.nonzero()].flatten() # Flatten para pasarlo a vector\n",
    "    actuals = actuals[actuals.nonzero()].flatten()\n",
    "    return mean_squared_error(preds,actuals)\n",
    "get_mse(users_pred,ratings_train)"
   ]
  }
 ],
 "metadata": {
  "kernelspec": {
   "display_name": "Python 3",
   "language": "python",
   "name": "python3"
  },
  "language_info": {
   "codemirror_mode": {
    "name": "ipython",
    "version": 3
   },
   "file_extension": ".py",
   "mimetype": "text/x-python",
   "name": "python",
   "nbconvert_exporter": "python",
   "pygments_lexer": "ipython3",
   "version": "3.6.6"
  }
 },
 "nbformat": 4,
 "nbformat_minor": 2
}
